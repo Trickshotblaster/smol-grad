{
  "nbformat": 4,
  "nbformat_minor": 0,
  "metadata": {
    "colab": {
      "provenance": [],
      "authorship_tag": "ABX9TyNIUv6sN0gFxu0izP+QJbnH",
      "include_colab_link": true
    },
    "kernelspec": {
      "name": "python3",
      "display_name": "Python 3"
    },
    "language_info": {
      "name": "python"
    }
  },
  "cells": [
    {
      "cell_type": "markdown",
      "metadata": {
        "id": "view-in-github",
        "colab_type": "text"
      },
      "source": [
        "<a href=\"https://colab.research.google.com/github/Trickshotblaster/smol-grad/blob/main/Backprop.ipynb\" target=\"_parent\"><img src=\"https://colab.research.google.com/assets/colab-badge.svg\" alt=\"Open In Colab\"/></a>"
      ]
    },
    {
      "cell_type": "code",
      "execution_count": 1,
      "metadata": {
        "id": "NoSqoK3tCumm"
      },
      "outputs": [],
      "source": [
        "import math\n",
        "import numpy as np\n",
        "import matplotlib.pyplot as plt\n",
        "%matplotlib inline"
      ]
    },
    {
      "cell_type": "code",
      "source": [
        "class Value:\n",
        "\n",
        "  def __init__(self, data, _children=(), _op='', label=''):\n",
        "    self.data = data\n",
        "    self.grad = 0.0\n",
        "    self._backward = lambda: None\n",
        "    self._prev = set(_children)\n",
        "    self._op = _op\n",
        "    self.label = label\n",
        "\n",
        "  def __repr__(self):\n",
        "    return f\"Value(data={self.data})\"\n",
        "\n",
        "  def __add__(self, other):\n",
        "    other = other if isinstance(other, Value) else Value(other)\n",
        "    out = Value(self.data + other.data, (self, other), '+')\n",
        "\n",
        "    def _backward():\n",
        "      self.grad += 1.0 * out.grad\n",
        "      other.grad += 1.0 * out.grad\n",
        "    out._backward = _backward\n",
        "\n",
        "    return out\n",
        "\n",
        "  def __mul__(self, other):\n",
        "    other = other if isinstance(other, Value) else Value(other)\n",
        "    out = Value(self.data * other.data, (self, other), '*')\n",
        "\n",
        "    def _backward():\n",
        "      self.grad += other.data * out.grad\n",
        "      other.grad += self.data * out.grad\n",
        "    out._backward = _backward\n",
        "\n",
        "    return out\n",
        "\n",
        "  def __pow__(self, other):\n",
        "    assert isinstance(other, (int, float)), \"only supporting int/float powers for now\"\n",
        "    out = Value(self.data**other, (self,), f'**{other}')\n",
        "\n",
        "    def _backward():\n",
        "        self.grad += other * (self.data ** (other - 1)) * out.grad\n",
        "    out._backward = _backward\n",
        "\n",
        "    return out\n",
        "\n",
        "  def __rmul__(self, other): # other * self\n",
        "    return self * other\n",
        "\n",
        "  def __truediv__(self, other): # self / other\n",
        "    return self * other**-1\n",
        "\n",
        "  def __neg__(self): # -self\n",
        "    return self * -1\n",
        "\n",
        "  def __sub__(self, other): # self - other\n",
        "    return self + (-other)\n",
        "\n",
        "  def __radd__(self, other): # other + self\n",
        "    return self + other\n",
        "\n",
        "  def tanh(self):\n",
        "    x = self.data\n",
        "    t = (math.exp(2*x) - 1)/(math.exp(2*x) + 1)\n",
        "    out = Value(t, (self, ), 'tanh')\n",
        "\n",
        "    def _backward():\n",
        "      self.grad += (1 - t**2) * out.grad\n",
        "    out._backward = _backward\n",
        "\n",
        "    return out\n",
        "\n",
        "  def exp(self):\n",
        "    x = self.data\n",
        "    out = Value(math.exp(x), (self, ), 'exp')\n",
        "\n",
        "    def _backward():\n",
        "      self.grad += out.data * out.grad\n",
        "    out._backward = _backward\n",
        "\n",
        "    return out\n",
        "\n",
        "\n",
        "  def backward(self):\n",
        "\n",
        "    topo = []\n",
        "    visited = set()\n",
        "    def build_topo(v):\n",
        "      if v not in visited:\n",
        "        visited.add(v)\n",
        "        for child in v._prev:\n",
        "          build_topo(child)\n",
        "        topo.append(v)\n",
        "    build_topo(self)\n",
        "\n",
        "    self.grad = 1.0\n",
        "    for node in reversed(topo):\n",
        "      node._backward()"
      ],
      "metadata": {
        "id": "t2NK-enLUnCq"
      },
      "execution_count": 6,
      "outputs": []
    },
    {
      "cell_type": "code",
      "source": [
        "from graphviz import Digraph\n",
        "\n",
        "def trace(root):\n",
        "    nodes, edges = set(), set()\n",
        "    def build(v):\n",
        "      if v not in nodes:\n",
        "        nodes.add(v)\n",
        "        for child in v._prev:\n",
        "          edges.add((child, v))\n",
        "          build(child)\n",
        "    build(root)\n",
        "    return nodes, edges\n",
        "\n",
        "def draw_dot(root):\n",
        "  dot = Digraph(format='svg', graph_attr={'rankdir': 'LR'})\n",
        "\n",
        "  nodes, edges = trace(root)\n",
        "  for n in nodes:\n",
        "    uid = str(id(n))\n",
        "    dot.node(name = uid, label = \"{ %s | data %.4f | grad %.4f }\" % (n.label, n.data, n.grad), shape='record')\n",
        "    if n._op:\n",
        "      dot.node(name = uid + n._op, label = n._op)\n",
        "      dot.edge(uid + n._op, uid)\n",
        "\n",
        "  for n1, n2 in edges:\n",
        "    dot.edge(str(id(n1)), str(id(n2)) + n2._op)\n",
        "\n",
        "  return dot"
      ],
      "metadata": {
        "id": "eF-a1vEh0pP0"
      },
      "execution_count": 3,
      "outputs": []
    },
    {
      "cell_type": "code",
      "source": [
        "# inputs\n",
        "x1 = Value(2.0, label='x1')\n",
        "x2 = Value(0.0, label='x2')\n",
        "# weights, x1 multiplied by w1, x2 by w2...\n",
        "w1 = Value(-3.0, label='w1')\n",
        "w2 = Value(1.0, label='w2')\n",
        "# bias to add to the sum of weigted inputs\n",
        "b = Value(6.8813735870195432, label='b')\n",
        "# multiplying inputs by weights\n",
        "x1w1 = x1 * w1; x1w1.label = 'x1w1'\n",
        "x2w2 = x2 * w2; x2w2.label = 'x2w2'\n",
        "# sum of weighted inputs\n",
        "x1w1x2w2 = x1w1 + x2w2; x1w1x2w2.label = 'x1w1x2w2'\n",
        "# adding bias\n",
        "n = x1w1x2w2 + b; n.label = 'n'\n",
        "\n",
        "e = (2*n).exp()\n",
        "o = (e - 1) / (e + 1)\n",
        "\n",
        "o.label = 'o'\n",
        "o.backward()\n",
        "draw_dot(o)"
      ],
      "metadata": {
        "colab": {
          "base_uri": "https://localhost:8080/",
          "height": 321
        },
        "id": "rlGQlSk19eZ9",
        "outputId": "8ca31bb7-6937-46cd-e706-c23e963513f8"
      },
      "execution_count": 8,
      "outputs": [
        {
          "output_type": "execute_result",
          "data": {
            "image/svg+xml": "<?xml version=\"1.0\" encoding=\"UTF-8\" standalone=\"no\"?>\n<!DOCTYPE svg PUBLIC \"-//W3C//DTD SVG 1.1//EN\"\n \"http://www.w3.org/Graphics/SVG/1.1/DTD/svg11.dtd\">\n<!-- Generated by graphviz version 2.43.0 (0)\n -->\n<!-- Title: %3 Pages: 1 -->\n<svg width=\"2909pt\" height=\"210pt\"\n viewBox=\"0.00 0.00 2909.00 210.00\" xmlns=\"http://www.w3.org/2000/svg\" xmlns:xlink=\"http://www.w3.org/1999/xlink\">\n<g id=\"graph0\" class=\"graph\" transform=\"scale(1 1) rotate(0) translate(4 206)\">\n<title>%3</title>\n<polygon fill=\"white\" stroke=\"transparent\" points=\"-4,4 -4,-206 2905,-206 2905,4 -4,4\"/>\n<!-- 138734249584640 -->\n<g id=\"node1\" class=\"node\">\n<title>138734249584640</title>\n<polygon fill=\"none\" stroke=\"black\" points=\"1036,-54.5 1036,-90.5 1221,-90.5 1221,-54.5 1036,-54.5\"/>\n<text text-anchor=\"middle\" x=\"1047.5\" y=\"-68.8\" font-family=\"Times,serif\" font-size=\"14.00\">n</text>\n<polyline fill=\"none\" stroke=\"black\" points=\"1059,-54.5 1059,-90.5 \"/>\n<text text-anchor=\"middle\" x=\"1099\" y=\"-68.8\" font-family=\"Times,serif\" font-size=\"14.00\">data 0.8814</text>\n<polyline fill=\"none\" stroke=\"black\" points=\"1139,-54.5 1139,-90.5 \"/>\n<text text-anchor=\"middle\" x=\"1180\" y=\"-68.8\" font-family=\"Times,serif\" font-size=\"14.00\">grad 0.5000</text>\n</g>\n<!-- 138734249575952* -->\n<g id=\"node4\" class=\"node\">\n<title>138734249575952*</title>\n<ellipse fill=\"none\" stroke=\"black\" cx=\"1284\" cy=\"-99.5\" rx=\"27\" ry=\"18\"/>\n<text text-anchor=\"middle\" x=\"1284\" y=\"-95.8\" font-family=\"Times,serif\" font-size=\"14.00\">*</text>\n</g>\n<!-- 138734249584640&#45;&gt;138734249575952* -->\n<g id=\"edge23\" class=\"edge\">\n<title>138734249584640&#45;&gt;138734249575952*</title>\n<path fill=\"none\" stroke=\"black\" d=\"M1221.01,-88.6C1230.49,-90.26 1239.66,-91.88 1247.9,-93.33\"/>\n<polygon fill=\"black\" stroke=\"black\" points=\"1247.36,-96.78 1257.81,-95.07 1248.57,-89.89 1247.36,-96.78\"/>\n</g>\n<!-- 138734249584640+ -->\n<g id=\"node2\" class=\"node\">\n<title>138734249584640+</title>\n<ellipse fill=\"none\" stroke=\"black\" cx=\"973\" cy=\"-72.5\" rx=\"27\" ry=\"18\"/>\n<text text-anchor=\"middle\" x=\"973\" y=\"-68.8\" font-family=\"Times,serif\" font-size=\"14.00\">+</text>\n</g>\n<!-- 138734249584640+&#45;&gt;138734249584640 -->\n<g id=\"edge1\" class=\"edge\">\n<title>138734249584640+&#45;&gt;138734249584640</title>\n<path fill=\"none\" stroke=\"black\" d=\"M1000.04,-72.5C1007.58,-72.5 1016.3,-72.5 1025.57,-72.5\"/>\n<polygon fill=\"black\" stroke=\"black\" points=\"1025.81,-76 1035.81,-72.5 1025.81,-69 1025.81,-76\"/>\n</g>\n<!-- 138734249575952 -->\n<g id=\"node3\" class=\"node\">\n<title>138734249575952</title>\n<polygon fill=\"none\" stroke=\"black\" points=\"1347,-81.5 1347,-117.5 1529,-117.5 1529,-81.5 1347,-81.5\"/>\n<text text-anchor=\"middle\" x=\"1357\" y=\"-95.8\" font-family=\"Times,serif\" font-size=\"14.00\"> </text>\n<polyline fill=\"none\" stroke=\"black\" points=\"1367,-81.5 1367,-117.5 \"/>\n<text text-anchor=\"middle\" x=\"1407\" y=\"-95.8\" font-family=\"Times,serif\" font-size=\"14.00\">data 1.7627</text>\n<polyline fill=\"none\" stroke=\"black\" points=\"1447,-81.5 1447,-117.5 \"/>\n<text text-anchor=\"middle\" x=\"1488\" y=\"-95.8\" font-family=\"Times,serif\" font-size=\"14.00\">grad 0.2500</text>\n</g>\n<!-- 138734249575712exp -->\n<g id=\"node16\" class=\"node\">\n<title>138734249575712exp</title>\n<ellipse fill=\"none\" stroke=\"black\" cx=\"1592\" cy=\"-99.5\" rx=\"27\" ry=\"18\"/>\n<text text-anchor=\"middle\" x=\"1592\" y=\"-95.8\" font-family=\"Times,serif\" font-size=\"14.00\">exp</text>\n</g>\n<!-- 138734249575952&#45;&gt;138734249575712exp -->\n<g id=\"edge13\" class=\"edge\">\n<title>138734249575952&#45;&gt;138734249575712exp</title>\n<path fill=\"none\" stroke=\"black\" d=\"M1529.18,-99.5C1538.14,-99.5 1546.83,-99.5 1554.73,-99.5\"/>\n<polygon fill=\"black\" stroke=\"black\" points=\"1554.96,-103 1564.96,-99.5 1554.96,-96 1554.96,-103\"/>\n</g>\n<!-- 138734249575952*&#45;&gt;138734249575952 -->\n<g id=\"edge2\" class=\"edge\">\n<title>138734249575952*&#45;&gt;138734249575952</title>\n<path fill=\"none\" stroke=\"black\" d=\"M1311.13,-99.5C1318.67,-99.5 1327.39,-99.5 1336.64,-99.5\"/>\n<polygon fill=\"black\" stroke=\"black\" points=\"1336.87,-103 1346.87,-99.5 1336.87,-96 1336.87,-103\"/>\n</g>\n<!-- 138734249586176 -->\n<g id=\"node5\" class=\"node\">\n<title>138734249586176</title>\n<polygon fill=\"none\" stroke=\"black\" points=\"666,-82.5 666,-118.5 910,-118.5 910,-82.5 666,-82.5\"/>\n<text text-anchor=\"middle\" x=\"704.5\" y=\"-96.8\" font-family=\"Times,serif\" font-size=\"14.00\">x1w1x2w2</text>\n<polyline fill=\"none\" stroke=\"black\" points=\"743,-82.5 743,-118.5 \"/>\n<text text-anchor=\"middle\" x=\"785.5\" y=\"-96.8\" font-family=\"Times,serif\" font-size=\"14.00\">data &#45;6.0000</text>\n<polyline fill=\"none\" stroke=\"black\" points=\"828,-82.5 828,-118.5 \"/>\n<text text-anchor=\"middle\" x=\"869\" y=\"-96.8\" font-family=\"Times,serif\" font-size=\"14.00\">grad 0.5000</text>\n</g>\n<!-- 138734249586176&#45;&gt;138734249584640+ -->\n<g id=\"edge16\" class=\"edge\">\n<title>138734249586176&#45;&gt;138734249584640+</title>\n<path fill=\"none\" stroke=\"black\" d=\"M906.71,-82.49C917.38,-80.86 927.53,-79.3 936.51,-77.93\"/>\n<polygon fill=\"black\" stroke=\"black\" points=\"937.13,-81.38 946.48,-76.4 936.07,-74.46 937.13,-81.38\"/>\n</g>\n<!-- 138734249586176+ -->\n<g id=\"node6\" class=\"node\">\n<title>138734249586176+</title>\n<ellipse fill=\"none\" stroke=\"black\" cx=\"603\" cy=\"-100.5\" rx=\"27\" ry=\"18\"/>\n<text text-anchor=\"middle\" x=\"603\" y=\"-96.8\" font-family=\"Times,serif\" font-size=\"14.00\">+</text>\n</g>\n<!-- 138734249586176+&#45;&gt;138734249586176 -->\n<g id=\"edge3\" class=\"edge\">\n<title>138734249586176+&#45;&gt;138734249586176</title>\n<path fill=\"none\" stroke=\"black\" d=\"M630.22,-100.5C637.7,-100.5 646.4,-100.5 655.79,-100.5\"/>\n<polygon fill=\"black\" stroke=\"black\" points=\"655.8,-104 665.8,-100.5 655.8,-97 655.8,-104\"/>\n</g>\n<!-- 138734249576480 -->\n<g id=\"node7\" class=\"node\">\n<title>138734249576480</title>\n<polygon fill=\"none\" stroke=\"black\" points=\"326,-110.5 326,-146.5 540,-146.5 540,-110.5 326,-110.5\"/>\n<text text-anchor=\"middle\" x=\"349.5\" y=\"-124.8\" font-family=\"Times,serif\" font-size=\"14.00\">x1w1</text>\n<polyline fill=\"none\" stroke=\"black\" points=\"373,-110.5 373,-146.5 \"/>\n<text text-anchor=\"middle\" x=\"415.5\" y=\"-124.8\" font-family=\"Times,serif\" font-size=\"14.00\">data &#45;6.0000</text>\n<polyline fill=\"none\" stroke=\"black\" points=\"458,-110.5 458,-146.5 \"/>\n<text text-anchor=\"middle\" x=\"499\" y=\"-124.8\" font-family=\"Times,serif\" font-size=\"14.00\">grad 0.5000</text>\n</g>\n<!-- 138734249576480&#45;&gt;138734249586176+ -->\n<g id=\"edge25\" class=\"edge\">\n<title>138734249576480&#45;&gt;138734249586176+</title>\n<path fill=\"none\" stroke=\"black\" d=\"M540.4,-110.77C549.72,-109.21 558.65,-107.72 566.68,-106.39\"/>\n<polygon fill=\"black\" stroke=\"black\" points=\"567.38,-109.82 576.66,-104.72 566.22,-102.91 567.38,-109.82\"/>\n</g>\n<!-- 138734249576480* -->\n<g id=\"node8\" class=\"node\">\n<title>138734249576480*</title>\n<ellipse fill=\"none\" stroke=\"black\" cx=\"263\" cy=\"-128.5\" rx=\"27\" ry=\"18\"/>\n<text text-anchor=\"middle\" x=\"263\" y=\"-124.8\" font-family=\"Times,serif\" font-size=\"14.00\">*</text>\n</g>\n<!-- 138734249576480*&#45;&gt;138734249576480 -->\n<g id=\"edge4\" class=\"edge\">\n<title>138734249576480*&#45;&gt;138734249576480</title>\n<path fill=\"none\" stroke=\"black\" d=\"M290.25,-128.5C297.7,-128.5 306.34,-128.5 315.59,-128.5\"/>\n<polygon fill=\"black\" stroke=\"black\" points=\"315.84,-132 325.84,-128.5 315.84,-125 315.84,-132\"/>\n</g>\n<!-- 138734249589824 -->\n<g id=\"node9\" class=\"node\">\n<title>138734249589824</title>\n<polygon fill=\"none\" stroke=\"black\" points=\"0,-165.5 0,-201.5 200,-201.5 200,-165.5 0,-165.5\"/>\n<text text-anchor=\"middle\" x=\"16.5\" y=\"-179.8\" font-family=\"Times,serif\" font-size=\"14.00\">w1</text>\n<polyline fill=\"none\" stroke=\"black\" points=\"33,-165.5 33,-201.5 \"/>\n<text text-anchor=\"middle\" x=\"75.5\" y=\"-179.8\" font-family=\"Times,serif\" font-size=\"14.00\">data &#45;3.0000</text>\n<polyline fill=\"none\" stroke=\"black\" points=\"118,-165.5 118,-201.5 \"/>\n<text text-anchor=\"middle\" x=\"159\" y=\"-179.8\" font-family=\"Times,serif\" font-size=\"14.00\">grad 1.0000</text>\n</g>\n<!-- 138734249589824&#45;&gt;138734249576480* -->\n<g id=\"edge27\" class=\"edge\">\n<title>138734249589824&#45;&gt;138734249576480*</title>\n<path fill=\"none\" stroke=\"black\" d=\"M172.53,-165.44C181.84,-162.67 191.2,-159.67 200,-156.5 210.53,-152.71 221.75,-147.9 231.72,-143.33\"/>\n<polygon fill=\"black\" stroke=\"black\" points=\"233.25,-146.48 240.82,-139.07 230.28,-140.14 233.25,-146.48\"/>\n</g>\n<!-- 138734249589920 -->\n<g id=\"node10\" class=\"node\">\n<title>138734249589920</title>\n<polygon fill=\"none\" stroke=\"black\" points=\"2.5,-55.5 2.5,-91.5 197.5,-91.5 197.5,-55.5 2.5,-55.5\"/>\n<text text-anchor=\"middle\" x=\"19\" y=\"-69.8\" font-family=\"Times,serif\" font-size=\"14.00\">w2</text>\n<polyline fill=\"none\" stroke=\"black\" points=\"35.5,-55.5 35.5,-91.5 \"/>\n<text text-anchor=\"middle\" x=\"75.5\" y=\"-69.8\" font-family=\"Times,serif\" font-size=\"14.00\">data 1.0000</text>\n<polyline fill=\"none\" stroke=\"black\" points=\"115.5,-55.5 115.5,-91.5 \"/>\n<text text-anchor=\"middle\" x=\"156.5\" y=\"-69.8\" font-family=\"Times,serif\" font-size=\"14.00\">grad 0.0000</text>\n</g>\n<!-- 138734249587568* -->\n<g id=\"node23\" class=\"node\">\n<title>138734249587568*</title>\n<ellipse fill=\"none\" stroke=\"black\" cx=\"263\" cy=\"-73.5\" rx=\"27\" ry=\"18\"/>\n<text text-anchor=\"middle\" x=\"263\" y=\"-69.8\" font-family=\"Times,serif\" font-size=\"14.00\">*</text>\n</g>\n<!-- 138734249589920&#45;&gt;138734249587568* -->\n<g id=\"edge15\" class=\"edge\">\n<title>138734249589920&#45;&gt;138734249587568*</title>\n<path fill=\"none\" stroke=\"black\" d=\"M197.91,-73.5C207.65,-73.5 217.05,-73.5 225.52,-73.5\"/>\n<polygon fill=\"black\" stroke=\"black\" points=\"225.7,-77 235.7,-73.5 225.7,-70 225.7,-77\"/>\n</g>\n<!-- 138734249586032 -->\n<g id=\"node11\" class=\"node\">\n<title>138734249586032</title>\n<polygon fill=\"none\" stroke=\"black\" points=\"1037.5,-109.5 1037.5,-145.5 1219.5,-145.5 1219.5,-109.5 1037.5,-109.5\"/>\n<text text-anchor=\"middle\" x=\"1047.5\" y=\"-123.8\" font-family=\"Times,serif\" font-size=\"14.00\"> </text>\n<polyline fill=\"none\" stroke=\"black\" points=\"1057.5,-109.5 1057.5,-145.5 \"/>\n<text text-anchor=\"middle\" x=\"1097.5\" y=\"-123.8\" font-family=\"Times,serif\" font-size=\"14.00\">data 2.0000</text>\n<polyline fill=\"none\" stroke=\"black\" points=\"1137.5,-109.5 1137.5,-145.5 \"/>\n<text text-anchor=\"middle\" x=\"1178.5\" y=\"-123.8\" font-family=\"Times,serif\" font-size=\"14.00\">grad 0.2203</text>\n</g>\n<!-- 138734249586032&#45;&gt;138734249575952* -->\n<g id=\"edge20\" class=\"edge\">\n<title>138734249586032&#45;&gt;138734249575952*</title>\n<path fill=\"none\" stroke=\"black\" d=\"M1219.68,-111.05C1229.61,-109.24 1239.23,-107.48 1247.84,-105.91\"/>\n<polygon fill=\"black\" stroke=\"black\" points=\"1248.6,-109.33 1257.81,-104.09 1247.35,-102.45 1248.6,-109.33\"/>\n</g>\n<!-- 138734249578736 -->\n<g id=\"node12\" class=\"node\">\n<title>138734249578736</title>\n<polygon fill=\"none\" stroke=\"black\" points=\"2408,-57.5 2408,-93.5 2590,-93.5 2590,-57.5 2408,-57.5\"/>\n<text text-anchor=\"middle\" x=\"2418\" y=\"-71.8\" font-family=\"Times,serif\" font-size=\"14.00\"> </text>\n<polyline fill=\"none\" stroke=\"black\" points=\"2428,-57.5 2428,-93.5 \"/>\n<text text-anchor=\"middle\" x=\"2468\" y=\"-71.8\" font-family=\"Times,serif\" font-size=\"14.00\">data 0.1464</text>\n<polyline fill=\"none\" stroke=\"black\" points=\"2508,-57.5 2508,-93.5 \"/>\n<text text-anchor=\"middle\" x=\"2549\" y=\"-71.8\" font-family=\"Times,serif\" font-size=\"14.00\">grad 4.8284</text>\n</g>\n<!-- 138734249582384* -->\n<g id=\"node18\" class=\"node\">\n<title>138734249582384*</title>\n<ellipse fill=\"none\" stroke=\"black\" cx=\"2653\" cy=\"-98.5\" rx=\"27\" ry=\"18\"/>\n<text text-anchor=\"middle\" x=\"2653\" y=\"-94.8\" font-family=\"Times,serif\" font-size=\"14.00\">*</text>\n</g>\n<!-- 138734249578736&#45;&gt;138734249582384* -->\n<g id=\"edge21\" class=\"edge\">\n<title>138734249578736&#45;&gt;138734249582384*</title>\n<path fill=\"none\" stroke=\"black\" d=\"M2590.18,-89.15C2599.42,-90.54 2608.38,-91.9 2616.47,-93.12\"/>\n<polygon fill=\"black\" stroke=\"black\" points=\"2616.15,-96.61 2626.56,-94.65 2617.19,-89.69 2616.15,-96.61\"/>\n</g>\n<!-- 138734249578736**&#45;1 -->\n<g id=\"node13\" class=\"node\">\n<title>138734249578736**&#45;1</title>\n<ellipse fill=\"none\" stroke=\"black\" cx=\"2281\" cy=\"-71.5\" rx=\"27\" ry=\"18\"/>\n<text text-anchor=\"middle\" x=\"2281\" y=\"-67.8\" font-family=\"Times,serif\" font-size=\"14.00\">**&#45;1</text>\n</g>\n<!-- 138734249578736**&#45;1&#45;&gt;138734249578736 -->\n<g id=\"edge5\" class=\"edge\">\n<title>138734249578736**&#45;1&#45;&gt;138734249578736</title>\n<path fill=\"none\" stroke=\"black\" d=\"M2308.05,-71.98C2330.53,-72.4 2364.48,-73.03 2397.5,-73.64\"/>\n<polygon fill=\"black\" stroke=\"black\" points=\"2397.64,-77.14 2407.7,-73.83 2397.77,-70.14 2397.64,-77.14\"/>\n</g>\n<!-- 138734249590544 -->\n<g id=\"node14\" class=\"node\">\n<title>138734249590544</title>\n<polygon fill=\"none\" stroke=\"black\" points=\"1655.5,-26.5 1655.5,-62.5 1841.5,-62.5 1841.5,-26.5 1655.5,-26.5\"/>\n<text text-anchor=\"middle\" x=\"1665.5\" y=\"-40.8\" font-family=\"Times,serif\" font-size=\"14.00\"> </text>\n<polyline fill=\"none\" stroke=\"black\" points=\"1675.5,-26.5 1675.5,-62.5 \"/>\n<text text-anchor=\"middle\" x=\"1715.5\" y=\"-40.8\" font-family=\"Times,serif\" font-size=\"14.00\">data 1.0000</text>\n<polyline fill=\"none\" stroke=\"black\" points=\"1755.5,-26.5 1755.5,-62.5 \"/>\n<text text-anchor=\"middle\" x=\"1798.5\" y=\"-40.8\" font-family=\"Times,serif\" font-size=\"14.00\">grad &#45;0.1036</text>\n</g>\n<!-- 138734249590160+ -->\n<g id=\"node21\" class=\"node\">\n<title>138734249590160+</title>\n<ellipse fill=\"none\" stroke=\"black\" cx=\"1905\" cy=\"-71.5\" rx=\"27\" ry=\"18\"/>\n<text text-anchor=\"middle\" x=\"1905\" y=\"-67.8\" font-family=\"Times,serif\" font-size=\"14.00\">+</text>\n</g>\n<!-- 138734249590544&#45;&gt;138734249590160+ -->\n<g id=\"edge11\" class=\"edge\">\n<title>138734249590544&#45;&gt;138734249590160+</title>\n<path fill=\"none\" stroke=\"black\" d=\"M1841.6,-60.6C1851.15,-62.26 1860.37,-63.88 1868.68,-65.33\"/>\n<polygon fill=\"black\" stroke=\"black\" points=\"1868.2,-68.8 1878.65,-67.07 1869.4,-61.9 1868.2,-68.8\"/>\n</g>\n<!-- 138734249575712 -->\n<g id=\"node15\" class=\"node\">\n<title>138734249575712</title>\n<polygon fill=\"none\" stroke=\"black\" points=\"1657.5,-81.5 1657.5,-117.5 1839.5,-117.5 1839.5,-81.5 1657.5,-81.5\"/>\n<text text-anchor=\"middle\" x=\"1667.5\" y=\"-95.8\" font-family=\"Times,serif\" font-size=\"14.00\"> </text>\n<polyline fill=\"none\" stroke=\"black\" points=\"1677.5,-81.5 1677.5,-117.5 \"/>\n<text text-anchor=\"middle\" x=\"1717.5\" y=\"-95.8\" font-family=\"Times,serif\" font-size=\"14.00\">data 5.8284</text>\n<polyline fill=\"none\" stroke=\"black\" points=\"1757.5,-81.5 1757.5,-117.5 \"/>\n<text text-anchor=\"middle\" x=\"1798.5\" y=\"-95.8\" font-family=\"Times,serif\" font-size=\"14.00\">grad 0.0429</text>\n</g>\n<!-- 138734249575712&#45;&gt;138734249590160+ -->\n<g id=\"edge22\" class=\"edge\">\n<title>138734249575712&#45;&gt;138734249590160+</title>\n<path fill=\"none\" stroke=\"black\" d=\"M1839.82,-83.13C1850.07,-81.27 1860.01,-79.47 1868.88,-77.87\"/>\n<polygon fill=\"black\" stroke=\"black\" points=\"1869.54,-81.3 1878.75,-76.08 1868.29,-74.42 1869.54,-81.3\"/>\n</g>\n<!-- 138734249574848+ -->\n<g id=\"node26\" class=\"node\">\n<title>138734249574848+</title>\n<ellipse fill=\"none\" stroke=\"black\" cx=\"1905\" cy=\"-126.5\" rx=\"27\" ry=\"18\"/>\n<text text-anchor=\"middle\" x=\"1905\" y=\"-122.8\" font-family=\"Times,serif\" font-size=\"14.00\">+</text>\n</g>\n<!-- 138734249575712&#45;&gt;138734249574848+ -->\n<g id=\"edge24\" class=\"edge\">\n<title>138734249575712&#45;&gt;138734249574848+</title>\n<path fill=\"none\" stroke=\"black\" d=\"M1839.82,-115.28C1850.07,-117.08 1860.01,-118.81 1868.88,-120.36\"/>\n<polygon fill=\"black\" stroke=\"black\" points=\"1868.3,-123.81 1878.75,-122.09 1869.5,-116.92 1868.3,-123.81\"/>\n</g>\n<!-- 138734249575712exp&#45;&gt;138734249575712 -->\n<g id=\"edge6\" class=\"edge\">\n<title>138734249575712exp&#45;&gt;138734249575712</title>\n<path fill=\"none\" stroke=\"black\" d=\"M1619.21,-99.5C1627.34,-99.5 1636.85,-99.5 1646.94,-99.5\"/>\n<polygon fill=\"black\" stroke=\"black\" points=\"1647.19,-103 1657.19,-99.5 1647.19,-96 1647.19,-103\"/>\n</g>\n<!-- 138734249582384 -->\n<g id=\"node17\" class=\"node\">\n<title>138734249582384</title>\n<polygon fill=\"none\" stroke=\"black\" points=\"2716,-80.5 2716,-116.5 2901,-116.5 2901,-80.5 2716,-80.5\"/>\n<text text-anchor=\"middle\" x=\"2727.5\" y=\"-94.8\" font-family=\"Times,serif\" font-size=\"14.00\">o</text>\n<polyline fill=\"none\" stroke=\"black\" points=\"2739,-80.5 2739,-116.5 \"/>\n<text text-anchor=\"middle\" x=\"2779\" y=\"-94.8\" font-family=\"Times,serif\" font-size=\"14.00\">data 0.7071</text>\n<polyline fill=\"none\" stroke=\"black\" points=\"2819,-80.5 2819,-116.5 \"/>\n<text text-anchor=\"middle\" x=\"2860\" y=\"-94.8\" font-family=\"Times,serif\" font-size=\"14.00\">grad 1.0000</text>\n</g>\n<!-- 138734249582384*&#45;&gt;138734249582384 -->\n<g id=\"edge7\" class=\"edge\">\n<title>138734249582384*&#45;&gt;138734249582384</title>\n<path fill=\"none\" stroke=\"black\" d=\"M2680.04,-98.5C2687.58,-98.5 2696.3,-98.5 2705.57,-98.5\"/>\n<polygon fill=\"black\" stroke=\"black\" points=\"2705.81,-102 2715.81,-98.5 2705.81,-95 2705.81,-102\"/>\n</g>\n<!-- 138734249590064 -->\n<g id=\"node19\" class=\"node\">\n<title>138734249590064</title>\n<polygon fill=\"none\" stroke=\"black\" points=\"2,-110.5 2,-146.5 198,-146.5 198,-110.5 2,-110.5\"/>\n<text text-anchor=\"middle\" x=\"17\" y=\"-124.8\" font-family=\"Times,serif\" font-size=\"14.00\">x1</text>\n<polyline fill=\"none\" stroke=\"black\" points=\"32,-110.5 32,-146.5 \"/>\n<text text-anchor=\"middle\" x=\"72\" y=\"-124.8\" font-family=\"Times,serif\" font-size=\"14.00\">data 2.0000</text>\n<polyline fill=\"none\" stroke=\"black\" points=\"112,-110.5 112,-146.5 \"/>\n<text text-anchor=\"middle\" x=\"155\" y=\"-124.8\" font-family=\"Times,serif\" font-size=\"14.00\">grad &#45;1.5000</text>\n</g>\n<!-- 138734249590064&#45;&gt;138734249576480* -->\n<g id=\"edge14\" class=\"edge\">\n<title>138734249590064&#45;&gt;138734249576480*</title>\n<path fill=\"none\" stroke=\"black\" d=\"M198.37,-128.5C208.05,-128.5 217.4,-128.5 225.8,-128.5\"/>\n<polygon fill=\"black\" stroke=\"black\" points=\"225.91,-132 235.91,-128.5 225.91,-125 225.91,-132\"/>\n</g>\n<!-- 138734249590160 -->\n<g id=\"node20\" class=\"node\">\n<title>138734249590160</title>\n<polygon fill=\"none\" stroke=\"black\" points=\"1968,-53.5 1968,-89.5 2154,-89.5 2154,-53.5 1968,-53.5\"/>\n<text text-anchor=\"middle\" x=\"1978\" y=\"-67.8\" font-family=\"Times,serif\" font-size=\"14.00\"> </text>\n<polyline fill=\"none\" stroke=\"black\" points=\"1988,-53.5 1988,-89.5 \"/>\n<text text-anchor=\"middle\" x=\"2028\" y=\"-67.8\" font-family=\"Times,serif\" font-size=\"14.00\">data 6.8284</text>\n<polyline fill=\"none\" stroke=\"black\" points=\"2068,-53.5 2068,-89.5 \"/>\n<text text-anchor=\"middle\" x=\"2111\" y=\"-67.8\" font-family=\"Times,serif\" font-size=\"14.00\">grad &#45;0.1036</text>\n</g>\n<!-- 138734249590160&#45;&gt;138734249578736**&#45;1 -->\n<g id=\"edge26\" class=\"edge\">\n<title>138734249590160&#45;&gt;138734249578736**&#45;1</title>\n<path fill=\"none\" stroke=\"black\" d=\"M2154.14,-71.5C2185.72,-71.5 2219.24,-71.5 2243.74,-71.5\"/>\n<polygon fill=\"black\" stroke=\"black\" points=\"2243.98,-75 2253.98,-71.5 2243.98,-68 2243.98,-75\"/>\n</g>\n<!-- 138734249590160+&#45;&gt;138734249590160 -->\n<g id=\"edge8\" class=\"edge\">\n<title>138734249590160+&#45;&gt;138734249590160</title>\n<path fill=\"none\" stroke=\"black\" d=\"M1932.12,-71.5C1939.62,-71.5 1948.29,-71.5 1957.5,-71.5\"/>\n<polygon fill=\"black\" stroke=\"black\" points=\"1957.69,-75 1967.69,-71.5 1957.69,-68 1957.69,-75\"/>\n</g>\n<!-- 138734249587568 -->\n<g id=\"node22\" class=\"node\">\n<title>138734249587568</title>\n<polygon fill=\"none\" stroke=\"black\" points=\"328.5,-55.5 328.5,-91.5 537.5,-91.5 537.5,-55.5 328.5,-55.5\"/>\n<text text-anchor=\"middle\" x=\"352\" y=\"-69.8\" font-family=\"Times,serif\" font-size=\"14.00\">x2w2</text>\n<polyline fill=\"none\" stroke=\"black\" points=\"375.5,-55.5 375.5,-91.5 \"/>\n<text text-anchor=\"middle\" x=\"415.5\" y=\"-69.8\" font-family=\"Times,serif\" font-size=\"14.00\">data 0.0000</text>\n<polyline fill=\"none\" stroke=\"black\" points=\"455.5,-55.5 455.5,-91.5 \"/>\n<text text-anchor=\"middle\" x=\"496.5\" y=\"-69.8\" font-family=\"Times,serif\" font-size=\"14.00\">grad 0.5000</text>\n</g>\n<!-- 138734249587568&#45;&gt;138734249586176+ -->\n<g id=\"edge17\" class=\"edge\">\n<title>138734249587568&#45;&gt;138734249586176+</title>\n<path fill=\"none\" stroke=\"black\" d=\"M537.53,-90.14C547.8,-91.79 557.66,-93.37 566.45,-94.79\"/>\n<polygon fill=\"black\" stroke=\"black\" points=\"566.16,-98.28 576.59,-96.42 567.27,-91.37 566.16,-98.28\"/>\n</g>\n<!-- 138734249587568*&#45;&gt;138734249587568 -->\n<g id=\"edge9\" class=\"edge\">\n<title>138734249587568*&#45;&gt;138734249587568</title>\n<path fill=\"none\" stroke=\"black\" d=\"M290.25,-73.5C298.43,-73.5 308.03,-73.5 318.31,-73.5\"/>\n<polygon fill=\"black\" stroke=\"black\" points=\"318.35,-77 328.35,-73.5 318.35,-70 318.35,-77\"/>\n</g>\n<!-- 138734249585552 -->\n<g id=\"node24\" class=\"node\">\n<title>138734249585552</title>\n<polygon fill=\"none\" stroke=\"black\" points=\"4,-0.5 4,-36.5 196,-36.5 196,-0.5 4,-0.5\"/>\n<text text-anchor=\"middle\" x=\"19\" y=\"-14.8\" font-family=\"Times,serif\" font-size=\"14.00\">x2</text>\n<polyline fill=\"none\" stroke=\"black\" points=\"34,-0.5 34,-36.5 \"/>\n<text text-anchor=\"middle\" x=\"74\" y=\"-14.8\" font-family=\"Times,serif\" font-size=\"14.00\">data 0.0000</text>\n<polyline fill=\"none\" stroke=\"black\" points=\"114,-0.5 114,-36.5 \"/>\n<text text-anchor=\"middle\" x=\"155\" y=\"-14.8\" font-family=\"Times,serif\" font-size=\"14.00\">grad 0.5000</text>\n</g>\n<!-- 138734249585552&#45;&gt;138734249587568* -->\n<g id=\"edge18\" class=\"edge\">\n<title>138734249585552&#45;&gt;138734249587568*</title>\n<path fill=\"none\" stroke=\"black\" d=\"M172.53,-36.56C181.84,-39.33 191.2,-42.33 200,-45.5 210.53,-49.29 221.75,-54.1 231.72,-58.67\"/>\n<polygon fill=\"black\" stroke=\"black\" points=\"230.28,-61.86 240.82,-62.93 233.25,-55.52 230.28,-61.86\"/>\n</g>\n<!-- 138734249574848 -->\n<g id=\"node25\" class=\"node\">\n<title>138734249574848</title>\n<polygon fill=\"none\" stroke=\"black\" points=\"2190,-108.5 2190,-144.5 2372,-144.5 2372,-108.5 2190,-108.5\"/>\n<text text-anchor=\"middle\" x=\"2200\" y=\"-122.8\" font-family=\"Times,serif\" font-size=\"14.00\"> </text>\n<polyline fill=\"none\" stroke=\"black\" points=\"2210,-108.5 2210,-144.5 \"/>\n<text text-anchor=\"middle\" x=\"2250\" y=\"-122.8\" font-family=\"Times,serif\" font-size=\"14.00\">data 4.8284</text>\n<polyline fill=\"none\" stroke=\"black\" points=\"2290,-108.5 2290,-144.5 \"/>\n<text text-anchor=\"middle\" x=\"2331\" y=\"-122.8\" font-family=\"Times,serif\" font-size=\"14.00\">grad 0.1464</text>\n</g>\n<!-- 138734249574848&#45;&gt;138734249582384* -->\n<g id=\"edge12\" class=\"edge\">\n<title>138734249574848&#45;&gt;138734249582384*</title>\n<path fill=\"none\" stroke=\"black\" d=\"M2372.31,-119.9C2433.7,-115.37 2516.76,-109.19 2590,-103.5 2598.42,-102.85 2607.48,-102.13 2616.01,-101.44\"/>\n<polygon fill=\"black\" stroke=\"black\" points=\"2616.37,-104.92 2626.06,-100.63 2615.81,-97.94 2616.37,-104.92\"/>\n</g>\n<!-- 138734249574848+&#45;&gt;138734249574848 -->\n<g id=\"edge10\" class=\"edge\">\n<title>138734249574848+&#45;&gt;138734249574848</title>\n<path fill=\"none\" stroke=\"black\" d=\"M1932,-126.5C1982.46,-126.5 2096.06,-126.5 2179.81,-126.5\"/>\n<polygon fill=\"black\" stroke=\"black\" points=\"2179.87,-130 2189.87,-126.5 2179.87,-123 2179.87,-130\"/>\n</g>\n<!-- 138734249581520 -->\n<g id=\"node27\" class=\"node\">\n<title>138734249581520</title>\n<polygon fill=\"none\" stroke=\"black\" points=\"695.5,-27.5 695.5,-63.5 880.5,-63.5 880.5,-27.5 695.5,-27.5\"/>\n<text text-anchor=\"middle\" x=\"707\" y=\"-41.8\" font-family=\"Times,serif\" font-size=\"14.00\">b</text>\n<polyline fill=\"none\" stroke=\"black\" points=\"718.5,-27.5 718.5,-63.5 \"/>\n<text text-anchor=\"middle\" x=\"758.5\" y=\"-41.8\" font-family=\"Times,serif\" font-size=\"14.00\">data 6.8814</text>\n<polyline fill=\"none\" stroke=\"black\" points=\"798.5,-27.5 798.5,-63.5 \"/>\n<text text-anchor=\"middle\" x=\"839.5\" y=\"-41.8\" font-family=\"Times,serif\" font-size=\"14.00\">grad 0.5000</text>\n</g>\n<!-- 138734249581520&#45;&gt;138734249584640+ -->\n<g id=\"edge19\" class=\"edge\">\n<title>138734249581520&#45;&gt;138734249584640+</title>\n<path fill=\"none\" stroke=\"black\" d=\"M880.77,-59.04C900.52,-61.95 920.26,-64.87 936.29,-67.23\"/>\n<polygon fill=\"black\" stroke=\"black\" points=\"935.86,-70.71 946.26,-68.7 936.88,-63.78 935.86,-70.71\"/>\n</g>\n<!-- 138734249574896 -->\n<g id=\"node28\" class=\"node\">\n<title>138734249574896</title>\n<polygon fill=\"none\" stroke=\"black\" points=\"1655,-136.5 1655,-172.5 1842,-172.5 1842,-136.5 1655,-136.5\"/>\n<text text-anchor=\"middle\" x=\"1665\" y=\"-150.8\" font-family=\"Times,serif\" font-size=\"14.00\"> </text>\n<polyline fill=\"none\" stroke=\"black\" points=\"1675,-136.5 1675,-172.5 \"/>\n<text text-anchor=\"middle\" x=\"1717.5\" y=\"-150.8\" font-family=\"Times,serif\" font-size=\"14.00\">data &#45;1.0000</text>\n<polyline fill=\"none\" stroke=\"black\" points=\"1760,-136.5 1760,-172.5 \"/>\n<text text-anchor=\"middle\" x=\"1801\" y=\"-150.8\" font-family=\"Times,serif\" font-size=\"14.00\">grad 0.1464</text>\n</g>\n<!-- 138734249574896&#45;&gt;138734249574848+ -->\n<g id=\"edge28\" class=\"edge\">\n<title>138734249574896&#45;&gt;138734249574848+</title>\n<path fill=\"none\" stroke=\"black\" d=\"M1842.05,-137.73C1851.54,-136.01 1860.71,-134.35 1868.95,-132.85\"/>\n<polygon fill=\"black\" stroke=\"black\" points=\"1869.64,-136.28 1878.85,-131.06 1868.39,-129.4 1869.64,-136.28\"/>\n</g>\n</g>\n</svg>\n",
            "text/plain": [
              "<graphviz.graphs.Digraph at 0x7e2d95aa04f0>"
            ]
          },
          "metadata": {},
          "execution_count": 8
        }
      ]
    }
  ]
}