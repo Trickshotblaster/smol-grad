{
  "nbformat": 4,
  "nbformat_minor": 0,
  "metadata": {
    "colab": {
      "provenance": [],
      "authorship_tag": "ABX9TyMPP5PoOEhMXp3jih6qma9E",
      "include_colab_link": true
    },
    "kernelspec": {
      "name": "python3",
      "display_name": "Python 3"
    },
    "language_info": {
      "name": "python"
    }
  },
  "cells": [
    {
      "cell_type": "markdown",
      "metadata": {
        "id": "view-in-github",
        "colab_type": "text"
      },
      "source": [
        "<a href=\"https://colab.research.google.com/github/Trickshotblaster/smol-grad/blob/main/Backprop.ipynb\" target=\"_parent\"><img src=\"https://colab.research.google.com/assets/colab-badge.svg\" alt=\"Open In Colab\"/></a>"
      ]
    },
    {
      "cell_type": "code",
      "execution_count": 1,
      "metadata": {
        "id": "NoSqoK3tCumm"
      },
      "outputs": [],
      "source": [
        "import math\n",
        "import numpy as np\n",
        "import matplotlib.pyplot as plt\n",
        "%matplotlib inline"
      ]
    },
    {
      "cell_type": "code",
      "source": [
        "class Value:\n",
        "\n",
        "  def __init__(self, data, _children=(), _op='', label=''):\n",
        "    self.data = data\n",
        "    self.grad = 0.0\n",
        "    self._backward = lambda: None\n",
        "    self._prev = set(_children)\n",
        "    self._op = _op\n",
        "    self.label = label\n",
        "\n",
        "  def __repr__(self):\n",
        "    return f\"Value(data={self.data})\"\n",
        "\n",
        "  def __add__(self, other):\n",
        "    other = other if isinstance(other, Value) else Value(other)\n",
        "    out = Value(self.data + other.data, (self, other), '+')\n",
        "\n",
        "    def _backward():\n",
        "      self.grad += 1.0 * out.grad\n",
        "      other.grad += 1.0 * out.grad\n",
        "    out._backward = _backward\n",
        "\n",
        "    return out\n",
        "\n",
        "  def __mul__(self, other):\n",
        "    other = other if isinstance(other, Value) else Value(other)\n",
        "    out = Value(self.data * other.data, (self, other), '*')\n",
        "\n",
        "    def _backward():\n",
        "      self.grad += other.data * out.grad\n",
        "      other.grad += self.data * out.grad\n",
        "    out._backward = _backward\n",
        "\n",
        "    return out\n",
        "\n",
        "  def __pow__(self, other):\n",
        "    assert isinstance(other, (int, float)), \"only supporting int/float powers for now\"\n",
        "    out = Value(self.data**other, (self,), f'**{other}')\n",
        "\n",
        "    def _backward():\n",
        "        self.grad += other * (self.data ** (other - 1)) * out.grad\n",
        "    out._backward = _backward\n",
        "\n",
        "    return out\n",
        "\n",
        "  def __rmul__(self, other): # other * self\n",
        "    return self * other\n",
        "\n",
        "  def __truediv__(self, other): # self / other\n",
        "    return self * other**-1\n",
        "\n",
        "  def __neg__(self): # -self\n",
        "    return self * -1\n",
        "\n",
        "  def __sub__(self, other): # self - other\n",
        "    return self + (-other)\n",
        "\n",
        "  def __radd__(self, other): # other + self\n",
        "    return self + other\n",
        "\n",
        "  def tanh(self):\n",
        "    x = self.data\n",
        "    t = (math.exp(2*x) - 1)/(math.exp(2*x) + 1)\n",
        "    out = Value(t, (self, ), 'tanh')\n",
        "\n",
        "    def _backward():\n",
        "      self.grad += (1 - t**2) * out.grad\n",
        "    out._backward = _backward\n",
        "\n",
        "    return out\n",
        "\n",
        "  def exp(self):\n",
        "    x = self.data\n",
        "    out = Value(math.exp(x), (self, ), 'exp')\n",
        "\n",
        "    def _backward():\n",
        "      self.grad += out.data * out.grad\n",
        "    out._backward = _backward\n",
        "\n",
        "    return out\n",
        "\n",
        "\n",
        "  def backward(self):\n",
        "\n",
        "    topo = []\n",
        "    visited = set()\n",
        "    def build_topo(v):\n",
        "      if v not in visited:\n",
        "        visited.add(v)\n",
        "        for child in v._prev:\n",
        "          build_topo(child)\n",
        "        topo.append(v)\n",
        "    build_topo(self)\n",
        "\n",
        "    self.grad = 1.0\n",
        "    for node in reversed(topo):\n",
        "      node._backward()"
      ],
      "metadata": {
        "id": "t2NK-enLUnCq"
      },
      "execution_count": 2,
      "outputs": []
    },
    {
      "cell_type": "code",
      "source": [
        "from graphviz import Digraph\n",
        "\n",
        "def trace(root):\n",
        "    nodes, edges = set(), set()\n",
        "    def build(v):\n",
        "      if v not in nodes:\n",
        "        nodes.add(v)\n",
        "        for child in v._prev:\n",
        "          edges.add((child, v))\n",
        "          build(child)\n",
        "    build(root)\n",
        "    return nodes, edges\n",
        "\n",
        "def draw_dot(root):\n",
        "  dot = Digraph(format='svg', graph_attr={'rankdir': 'LR'})\n",
        "\n",
        "  nodes, edges = trace(root)\n",
        "  for n in nodes:\n",
        "    uid = str(id(n))\n",
        "    dot.node(name = uid, label = \"{ %s | data %.4f | grad %.4f }\" % (n.label, n.data, n.grad), shape='record')\n",
        "    if n._op:\n",
        "      dot.node(name = uid + n._op, label = n._op)\n",
        "      dot.edge(uid + n._op, uid)\n",
        "\n",
        "  for n1, n2 in edges:\n",
        "    dot.edge(str(id(n1)), str(id(n2)) + n2._op)\n",
        "\n",
        "  return dot"
      ],
      "metadata": {
        "id": "eF-a1vEh0pP0"
      },
      "execution_count": 3,
      "outputs": []
    },
    {
      "cell_type": "code",
      "source": [
        "# inputs\n",
        "x1 = Value(2.0, label='x1')\n",
        "x2 = Value(0.0, label='x2')\n",
        "# weights, x1 multiplied by w1, x2 by w2...\n",
        "w1 = Value(-3.0, label='w1')\n",
        "w2 = Value(1.0, label='w2')\n",
        "# bias to add to the sum of weigted inputs\n",
        "b = Value(6.88137, label='b')\n",
        "# multiplying inputs by weights\n",
        "x1w1 = x1 * w1; x1w1.label = 'x1w1'\n",
        "x2w2 = x2 * w2; x2w2.label = 'x2w2'\n",
        "# sum of weighted inputs\n",
        "x1w1x2w2 = x1w1 + x2w2; x1w1x2w2.label = 'x1w1x2w2'\n",
        "# adding bias\n",
        "n = x1w1x2w2 + b; n.label = 'n'\n",
        "\n",
        "e = (2*n).exp()\n",
        "o = (e - 1) / (e + 1)\n",
        "\n",
        "o.label = 'o'\n",
        "o.backward()\n",
        "draw_dot(o)"
      ],
      "metadata": {
        "colab": {
          "base_uri": "https://localhost:8080/",
          "height": 360
        },
        "id": "rlGQlSk19eZ9",
        "outputId": "37f78729-7a75-472b-ea9c-76c9ea7fb030"
      },
      "execution_count": 4,
      "outputs": [
        {
          "output_type": "execute_result",
          "data": {
            "image/svg+xml": "<?xml version=\"1.0\" encoding=\"UTF-8\" standalone=\"no\"?>\n<!DOCTYPE svg PUBLIC \"-//W3C//DTD SVG 1.1//EN\"\n \"http://www.w3.org/Graphics/SVG/1.1/DTD/svg11.dtd\">\n<!-- Generated by graphviz version 2.43.0 (0)\n -->\n<!-- Title: %3 Pages: 1 -->\n<svg width=\"2909pt\" height=\"239pt\"\n viewBox=\"0.00 0.00 2909.00 239.00\" xmlns=\"http://www.w3.org/2000/svg\" xmlns:xlink=\"http://www.w3.org/1999/xlink\">\n<g id=\"graph0\" class=\"graph\" transform=\"scale(1 1) rotate(0) translate(4 235)\">\n<title>%3</title>\n<polygon fill=\"white\" stroke=\"transparent\" points=\"-4,4 -4,-235 2905,-235 2905,4 -4,4\"/>\n<!-- 134267451886608 -->\n<g id=\"node1\" class=\"node\">\n<title>134267451886608</title>\n<polygon fill=\"none\" stroke=\"black\" points=\"2.5,-194.5 2.5,-230.5 197.5,-230.5 197.5,-194.5 2.5,-194.5\"/>\n<text text-anchor=\"middle\" x=\"19\" y=\"-208.8\" font-family=\"Times,serif\" font-size=\"14.00\">w2</text>\n<polyline fill=\"none\" stroke=\"black\" points=\"35.5,-194.5 35.5,-230.5 \"/>\n<text text-anchor=\"middle\" x=\"75.5\" y=\"-208.8\" font-family=\"Times,serif\" font-size=\"14.00\">data 1.0000</text>\n<polyline fill=\"none\" stroke=\"black\" points=\"115.5,-194.5 115.5,-230.5 \"/>\n<text text-anchor=\"middle\" x=\"156.5\" y=\"-208.8\" font-family=\"Times,serif\" font-size=\"14.00\">grad 0.0000</text>\n</g>\n<!-- 134267451883776* -->\n<g id=\"node16\" class=\"node\">\n<title>134267451883776*</title>\n<ellipse fill=\"none\" stroke=\"black\" cx=\"263\" cy=\"-157.5\" rx=\"27\" ry=\"18\"/>\n<text text-anchor=\"middle\" x=\"263\" y=\"-153.8\" font-family=\"Times,serif\" font-size=\"14.00\">*</text>\n</g>\n<!-- 134267451886608&#45;&gt;134267451883776* -->\n<g id=\"edge19\" class=\"edge\">\n<title>134267451886608&#45;&gt;134267451883776*</title>\n<path fill=\"none\" stroke=\"black\" d=\"M172.53,-194.44C181.84,-191.67 191.2,-188.67 200,-185.5 210.53,-181.71 221.75,-176.9 231.72,-172.33\"/>\n<polygon fill=\"black\" stroke=\"black\" points=\"233.25,-175.48 240.82,-168.07 230.28,-169.14 233.25,-175.48\"/>\n</g>\n<!-- 134267451898944 -->\n<g id=\"node2\" class=\"node\">\n<title>134267451898944</title>\n<polygon fill=\"none\" stroke=\"black\" points=\"1657.5,-55.5 1657.5,-91.5 1839.5,-91.5 1839.5,-55.5 1657.5,-55.5\"/>\n<text text-anchor=\"middle\" x=\"1667.5\" y=\"-69.8\" font-family=\"Times,serif\" font-size=\"14.00\"> </text>\n<polyline fill=\"none\" stroke=\"black\" points=\"1677.5,-55.5 1677.5,-91.5 \"/>\n<text text-anchor=\"middle\" x=\"1717.5\" y=\"-69.8\" font-family=\"Times,serif\" font-size=\"14.00\">data 5.8284</text>\n<polyline fill=\"none\" stroke=\"black\" points=\"1757.5,-55.5 1757.5,-91.5 \"/>\n<text text-anchor=\"middle\" x=\"1798.5\" y=\"-69.8\" font-family=\"Times,serif\" font-size=\"14.00\">grad 0.0429</text>\n</g>\n<!-- 134267451886176+ -->\n<g id=\"node5\" class=\"node\">\n<title>134267451886176+</title>\n<ellipse fill=\"none\" stroke=\"black\" cx=\"1905\" cy=\"-100.5\" rx=\"27\" ry=\"18\"/>\n<text text-anchor=\"middle\" x=\"1905\" y=\"-96.8\" font-family=\"Times,serif\" font-size=\"14.00\">+</text>\n</g>\n<!-- 134267451898944&#45;&gt;134267451886176+ -->\n<g id=\"edge26\" class=\"edge\">\n<title>134267451898944&#45;&gt;134267451886176+</title>\n<path fill=\"none\" stroke=\"black\" d=\"M1839.82,-89.28C1850.07,-91.08 1860.01,-92.81 1868.88,-94.36\"/>\n<polygon fill=\"black\" stroke=\"black\" points=\"1868.3,-97.81 1878.75,-96.09 1869.5,-90.92 1868.3,-97.81\"/>\n</g>\n<!-- 134267451893232+ -->\n<g id=\"node28\" class=\"node\">\n<title>134267451893232+</title>\n<ellipse fill=\"none\" stroke=\"black\" cx=\"1905\" cy=\"-45.5\" rx=\"27\" ry=\"18\"/>\n<text text-anchor=\"middle\" x=\"1905\" y=\"-41.8\" font-family=\"Times,serif\" font-size=\"14.00\">+</text>\n</g>\n<!-- 134267451898944&#45;&gt;134267451893232+ -->\n<g id=\"edge24\" class=\"edge\">\n<title>134267451898944&#45;&gt;134267451893232+</title>\n<path fill=\"none\" stroke=\"black\" d=\"M1839.82,-57.13C1850.07,-55.27 1860.01,-53.47 1868.88,-51.87\"/>\n<polygon fill=\"black\" stroke=\"black\" points=\"1869.54,-55.3 1878.75,-50.08 1868.29,-48.42 1869.54,-55.3\"/>\n</g>\n<!-- 134267451898944exp -->\n<g id=\"node3\" class=\"node\">\n<title>134267451898944exp</title>\n<ellipse fill=\"none\" stroke=\"black\" cx=\"1592\" cy=\"-73.5\" rx=\"27\" ry=\"18\"/>\n<text text-anchor=\"middle\" x=\"1592\" y=\"-69.8\" font-family=\"Times,serif\" font-size=\"14.00\">exp</text>\n</g>\n<!-- 134267451898944exp&#45;&gt;134267451898944 -->\n<g id=\"edge1\" class=\"edge\">\n<title>134267451898944exp&#45;&gt;134267451898944</title>\n<path fill=\"none\" stroke=\"black\" d=\"M1619.21,-73.5C1627.34,-73.5 1636.85,-73.5 1646.94,-73.5\"/>\n<polygon fill=\"black\" stroke=\"black\" points=\"1647.19,-77 1657.19,-73.5 1647.19,-70 1647.19,-77\"/>\n</g>\n<!-- 134267451886176 -->\n<g id=\"node4\" class=\"node\">\n<title>134267451886176</title>\n<polygon fill=\"none\" stroke=\"black\" points=\"1968,-82.5 1968,-118.5 2154,-118.5 2154,-82.5 1968,-82.5\"/>\n<text text-anchor=\"middle\" x=\"1978\" y=\"-96.8\" font-family=\"Times,serif\" font-size=\"14.00\"> </text>\n<polyline fill=\"none\" stroke=\"black\" points=\"1988,-82.5 1988,-118.5 \"/>\n<text text-anchor=\"middle\" x=\"2028\" y=\"-96.8\" font-family=\"Times,serif\" font-size=\"14.00\">data 6.8284</text>\n<polyline fill=\"none\" stroke=\"black\" points=\"2068,-82.5 2068,-118.5 \"/>\n<text text-anchor=\"middle\" x=\"2111\" y=\"-96.8\" font-family=\"Times,serif\" font-size=\"14.00\">grad &#45;0.1036</text>\n</g>\n<!-- 134267451886704**&#45;1 -->\n<g id=\"node7\" class=\"node\">\n<title>134267451886704**&#45;1</title>\n<ellipse fill=\"none\" stroke=\"black\" cx=\"2281\" cy=\"-100.5\" rx=\"27\" ry=\"18\"/>\n<text text-anchor=\"middle\" x=\"2281\" y=\"-96.8\" font-family=\"Times,serif\" font-size=\"14.00\">**&#45;1</text>\n</g>\n<!-- 134267451886176&#45;&gt;134267451886704**&#45;1 -->\n<g id=\"edge25\" class=\"edge\">\n<title>134267451886176&#45;&gt;134267451886704**&#45;1</title>\n<path fill=\"none\" stroke=\"black\" d=\"M2154.14,-100.5C2185.72,-100.5 2219.24,-100.5 2243.74,-100.5\"/>\n<polygon fill=\"black\" stroke=\"black\" points=\"2243.98,-104 2253.98,-100.5 2243.98,-97 2243.98,-104\"/>\n</g>\n<!-- 134267451886176+&#45;&gt;134267451886176 -->\n<g id=\"edge2\" class=\"edge\">\n<title>134267451886176+&#45;&gt;134267451886176</title>\n<path fill=\"none\" stroke=\"black\" d=\"M1932.12,-100.5C1939.62,-100.5 1948.29,-100.5 1957.5,-100.5\"/>\n<polygon fill=\"black\" stroke=\"black\" points=\"1957.69,-104 1967.69,-100.5 1957.69,-97 1957.69,-104\"/>\n</g>\n<!-- 134267451886704 -->\n<g id=\"node6\" class=\"node\">\n<title>134267451886704</title>\n<polygon fill=\"none\" stroke=\"black\" points=\"2408,-80.5 2408,-116.5 2590,-116.5 2590,-80.5 2408,-80.5\"/>\n<text text-anchor=\"middle\" x=\"2418\" y=\"-94.8\" font-family=\"Times,serif\" font-size=\"14.00\"> </text>\n<polyline fill=\"none\" stroke=\"black\" points=\"2428,-80.5 2428,-116.5 \"/>\n<text text-anchor=\"middle\" x=\"2468\" y=\"-94.8\" font-family=\"Times,serif\" font-size=\"14.00\">data 0.1464</text>\n<polyline fill=\"none\" stroke=\"black\" points=\"2508,-80.5 2508,-116.5 \"/>\n<text text-anchor=\"middle\" x=\"2549\" y=\"-94.8\" font-family=\"Times,serif\" font-size=\"14.00\">grad 4.8284</text>\n</g>\n<!-- 134267451887040* -->\n<g id=\"node26\" class=\"node\">\n<title>134267451887040*</title>\n<ellipse fill=\"none\" stroke=\"black\" cx=\"2653\" cy=\"-72.5\" rx=\"27\" ry=\"18\"/>\n<text text-anchor=\"middle\" x=\"2653\" y=\"-68.8\" font-family=\"Times,serif\" font-size=\"14.00\">*</text>\n</g>\n<!-- 134267451886704&#45;&gt;134267451887040* -->\n<g id=\"edge16\" class=\"edge\">\n<title>134267451886704&#45;&gt;134267451887040*</title>\n<path fill=\"none\" stroke=\"black\" d=\"M2590.18,-83.08C2599.42,-81.49 2608.38,-79.96 2616.47,-78.58\"/>\n<polygon fill=\"black\" stroke=\"black\" points=\"2617.29,-81.99 2626.56,-76.85 2616.11,-75.09 2617.29,-81.99\"/>\n</g>\n<!-- 134267451886704**&#45;1&#45;&gt;134267451886704 -->\n<g id=\"edge3\" class=\"edge\">\n<title>134267451886704**&#45;1&#45;&gt;134267451886704</title>\n<path fill=\"none\" stroke=\"black\" d=\"M2308.05,-100.26C2330.53,-100.05 2364.48,-99.74 2397.5,-99.43\"/>\n<polygon fill=\"black\" stroke=\"black\" points=\"2397.74,-102.93 2407.7,-99.34 2397.67,-95.93 2397.74,-102.93\"/>\n</g>\n<!-- 134267451889296 -->\n<g id=\"node8\" class=\"node\">\n<title>134267451889296</title>\n<polygon fill=\"none\" stroke=\"black\" points=\"1347,-55.5 1347,-91.5 1529,-91.5 1529,-55.5 1347,-55.5\"/>\n<text text-anchor=\"middle\" x=\"1357\" y=\"-69.8\" font-family=\"Times,serif\" font-size=\"14.00\"> </text>\n<polyline fill=\"none\" stroke=\"black\" points=\"1367,-55.5 1367,-91.5 \"/>\n<text text-anchor=\"middle\" x=\"1407\" y=\"-69.8\" font-family=\"Times,serif\" font-size=\"14.00\">data 1.7627</text>\n<polyline fill=\"none\" stroke=\"black\" points=\"1447,-55.5 1447,-91.5 \"/>\n<text text-anchor=\"middle\" x=\"1488\" y=\"-69.8\" font-family=\"Times,serif\" font-size=\"14.00\">grad 0.2500</text>\n</g>\n<!-- 134267451889296&#45;&gt;134267451898944exp -->\n<g id=\"edge17\" class=\"edge\">\n<title>134267451889296&#45;&gt;134267451898944exp</title>\n<path fill=\"none\" stroke=\"black\" d=\"M1529.18,-73.5C1538.14,-73.5 1546.83,-73.5 1554.73,-73.5\"/>\n<polygon fill=\"black\" stroke=\"black\" points=\"1554.96,-77 1564.96,-73.5 1554.96,-70 1554.96,-77\"/>\n</g>\n<!-- 134267451889296* -->\n<g id=\"node9\" class=\"node\">\n<title>134267451889296*</title>\n<ellipse fill=\"none\" stroke=\"black\" cx=\"1284\" cy=\"-73.5\" rx=\"27\" ry=\"18\"/>\n<text text-anchor=\"middle\" x=\"1284\" y=\"-69.8\" font-family=\"Times,serif\" font-size=\"14.00\">*</text>\n</g>\n<!-- 134267451889296*&#45;&gt;134267451889296 -->\n<g id=\"edge4\" class=\"edge\">\n<title>134267451889296*&#45;&gt;134267451889296</title>\n<path fill=\"none\" stroke=\"black\" d=\"M1311.13,-73.5C1318.67,-73.5 1327.39,-73.5 1336.64,-73.5\"/>\n<polygon fill=\"black\" stroke=\"black\" points=\"1336.87,-77 1346.87,-73.5 1336.87,-70 1336.87,-77\"/>\n</g>\n<!-- 134267451894432 -->\n<g id=\"node10\" class=\"node\">\n<title>134267451894432</title>\n<polygon fill=\"none\" stroke=\"black\" points=\"695.5,-56.5 695.5,-92.5 880.5,-92.5 880.5,-56.5 695.5,-56.5\"/>\n<text text-anchor=\"middle\" x=\"707\" y=\"-70.8\" font-family=\"Times,serif\" font-size=\"14.00\">b</text>\n<polyline fill=\"none\" stroke=\"black\" points=\"718.5,-56.5 718.5,-92.5 \"/>\n<text text-anchor=\"middle\" x=\"758.5\" y=\"-70.8\" font-family=\"Times,serif\" font-size=\"14.00\">data 6.8814</text>\n<polyline fill=\"none\" stroke=\"black\" points=\"798.5,-56.5 798.5,-92.5 \"/>\n<text text-anchor=\"middle\" x=\"839.5\" y=\"-70.8\" font-family=\"Times,serif\" font-size=\"14.00\">grad 0.5000</text>\n</g>\n<!-- 134267451885744+ -->\n<g id=\"node12\" class=\"node\">\n<title>134267451885744+</title>\n<ellipse fill=\"none\" stroke=\"black\" cx=\"973\" cy=\"-101.5\" rx=\"27\" ry=\"18\"/>\n<text text-anchor=\"middle\" x=\"973\" y=\"-97.8\" font-family=\"Times,serif\" font-size=\"14.00\">+</text>\n</g>\n<!-- 134267451894432&#45;&gt;134267451885744+ -->\n<g id=\"edge13\" class=\"edge\">\n<title>134267451894432&#45;&gt;134267451885744+</title>\n<path fill=\"none\" stroke=\"black\" d=\"M880.77,-88.04C900.52,-90.95 920.26,-93.87 936.29,-96.23\"/>\n<polygon fill=\"black\" stroke=\"black\" points=\"935.86,-99.71 946.26,-97.7 936.88,-92.78 935.86,-99.71\"/>\n</g>\n<!-- 134267451885744 -->\n<g id=\"node11\" class=\"node\">\n<title>134267451885744</title>\n<polygon fill=\"none\" stroke=\"black\" points=\"1036,-83.5 1036,-119.5 1221,-119.5 1221,-83.5 1036,-83.5\"/>\n<text text-anchor=\"middle\" x=\"1047.5\" y=\"-97.8\" font-family=\"Times,serif\" font-size=\"14.00\">n</text>\n<polyline fill=\"none\" stroke=\"black\" points=\"1059,-83.5 1059,-119.5 \"/>\n<text text-anchor=\"middle\" x=\"1099\" y=\"-97.8\" font-family=\"Times,serif\" font-size=\"14.00\">data 0.8814</text>\n<polyline fill=\"none\" stroke=\"black\" points=\"1139,-83.5 1139,-119.5 \"/>\n<text text-anchor=\"middle\" x=\"1180\" y=\"-97.8\" font-family=\"Times,serif\" font-size=\"14.00\">grad 0.5000</text>\n</g>\n<!-- 134267451885744&#45;&gt;134267451889296* -->\n<g id=\"edge11\" class=\"edge\">\n<title>134267451885744&#45;&gt;134267451889296*</title>\n<path fill=\"none\" stroke=\"black\" d=\"M1221.01,-84.81C1230.49,-83.08 1239.66,-81.41 1247.9,-79.9\"/>\n<polygon fill=\"black\" stroke=\"black\" points=\"1248.6,-83.33 1257.81,-78.09 1247.35,-76.45 1248.6,-83.33\"/>\n</g>\n<!-- 134267451885744+&#45;&gt;134267451885744 -->\n<g id=\"edge5\" class=\"edge\">\n<title>134267451885744+&#45;&gt;134267451885744</title>\n<path fill=\"none\" stroke=\"black\" d=\"M1000.04,-101.5C1007.58,-101.5 1016.3,-101.5 1025.57,-101.5\"/>\n<polygon fill=\"black\" stroke=\"black\" points=\"1025.81,-105 1035.81,-101.5 1025.81,-98 1025.81,-105\"/>\n</g>\n<!-- 134267451891888 -->\n<g id=\"node13\" class=\"node\">\n<title>134267451891888</title>\n<polygon fill=\"none\" stroke=\"black\" points=\"4,-139.5 4,-175.5 196,-175.5 196,-139.5 4,-139.5\"/>\n<text text-anchor=\"middle\" x=\"19\" y=\"-153.8\" font-family=\"Times,serif\" font-size=\"14.00\">x2</text>\n<polyline fill=\"none\" stroke=\"black\" points=\"34,-139.5 34,-175.5 \"/>\n<text text-anchor=\"middle\" x=\"74\" y=\"-153.8\" font-family=\"Times,serif\" font-size=\"14.00\">data 0.0000</text>\n<polyline fill=\"none\" stroke=\"black\" points=\"114,-139.5 114,-175.5 \"/>\n<text text-anchor=\"middle\" x=\"155\" y=\"-153.8\" font-family=\"Times,serif\" font-size=\"14.00\">grad 0.5000</text>\n</g>\n<!-- 134267451891888&#45;&gt;134267451883776* -->\n<g id=\"edge18\" class=\"edge\">\n<title>134267451891888&#45;&gt;134267451883776*</title>\n<path fill=\"none\" stroke=\"black\" d=\"M196.05,-157.5C206.52,-157.5 216.65,-157.5 225.71,-157.5\"/>\n<polygon fill=\"black\" stroke=\"black\" points=\"225.79,-161 235.79,-157.5 225.79,-154 225.79,-161\"/>\n</g>\n<!-- 134267451888816 -->\n<g id=\"node14\" class=\"node\">\n<title>134267451888816</title>\n<polygon fill=\"none\" stroke=\"black\" points=\"2,-84.5 2,-120.5 198,-120.5 198,-84.5 2,-84.5\"/>\n<text text-anchor=\"middle\" x=\"17\" y=\"-98.8\" font-family=\"Times,serif\" font-size=\"14.00\">x1</text>\n<polyline fill=\"none\" stroke=\"black\" points=\"32,-84.5 32,-120.5 \"/>\n<text text-anchor=\"middle\" x=\"72\" y=\"-98.8\" font-family=\"Times,serif\" font-size=\"14.00\">data 2.0000</text>\n<polyline fill=\"none\" stroke=\"black\" points=\"112,-84.5 112,-120.5 \"/>\n<text text-anchor=\"middle\" x=\"155\" y=\"-98.8\" font-family=\"Times,serif\" font-size=\"14.00\">grad &#45;1.5000</text>\n</g>\n<!-- 134267451899760* -->\n<g id=\"node22\" class=\"node\">\n<title>134267451899760*</title>\n<ellipse fill=\"none\" stroke=\"black\" cx=\"263\" cy=\"-102.5\" rx=\"27\" ry=\"18\"/>\n<text text-anchor=\"middle\" x=\"263\" y=\"-98.8\" font-family=\"Times,serif\" font-size=\"14.00\">*</text>\n</g>\n<!-- 134267451888816&#45;&gt;134267451899760* -->\n<g id=\"edge20\" class=\"edge\">\n<title>134267451888816&#45;&gt;134267451899760*</title>\n<path fill=\"none\" stroke=\"black\" d=\"M198.37,-102.5C208.05,-102.5 217.4,-102.5 225.8,-102.5\"/>\n<polygon fill=\"black\" stroke=\"black\" points=\"225.91,-106 235.91,-102.5 225.91,-99 225.91,-106\"/>\n</g>\n<!-- 134267451883776 -->\n<g id=\"node15\" class=\"node\">\n<title>134267451883776</title>\n<polygon fill=\"none\" stroke=\"black\" points=\"328.5,-139.5 328.5,-175.5 537.5,-175.5 537.5,-139.5 328.5,-139.5\"/>\n<text text-anchor=\"middle\" x=\"352\" y=\"-153.8\" font-family=\"Times,serif\" font-size=\"14.00\">x2w2</text>\n<polyline fill=\"none\" stroke=\"black\" points=\"375.5,-139.5 375.5,-175.5 \"/>\n<text text-anchor=\"middle\" x=\"415.5\" y=\"-153.8\" font-family=\"Times,serif\" font-size=\"14.00\">data 0.0000</text>\n<polyline fill=\"none\" stroke=\"black\" points=\"455.5,-139.5 455.5,-175.5 \"/>\n<text text-anchor=\"middle\" x=\"496.5\" y=\"-153.8\" font-family=\"Times,serif\" font-size=\"14.00\">grad 0.5000</text>\n</g>\n<!-- 134267451884880+ -->\n<g id=\"node20\" class=\"node\">\n<title>134267451884880+</title>\n<ellipse fill=\"none\" stroke=\"black\" cx=\"603\" cy=\"-129.5\" rx=\"27\" ry=\"18\"/>\n<text text-anchor=\"middle\" x=\"603\" y=\"-125.8\" font-family=\"Times,serif\" font-size=\"14.00\">+</text>\n</g>\n<!-- 134267451883776&#45;&gt;134267451884880+ -->\n<g id=\"edge15\" class=\"edge\">\n<title>134267451883776&#45;&gt;134267451884880+</title>\n<path fill=\"none\" stroke=\"black\" d=\"M537.53,-140.25C547.8,-138.53 557.66,-136.89 566.45,-135.43\"/>\n<polygon fill=\"black\" stroke=\"black\" points=\"567.3,-138.83 576.59,-133.74 566.15,-131.93 567.3,-138.83\"/>\n</g>\n<!-- 134267451883776*&#45;&gt;134267451883776 -->\n<g id=\"edge6\" class=\"edge\">\n<title>134267451883776*&#45;&gt;134267451883776</title>\n<path fill=\"none\" stroke=\"black\" d=\"M290.25,-157.5C298.43,-157.5 308.03,-157.5 318.31,-157.5\"/>\n<polygon fill=\"black\" stroke=\"black\" points=\"318.35,-161 328.35,-157.5 318.35,-154 318.35,-161\"/>\n</g>\n<!-- 134267451886368 -->\n<g id=\"node17\" class=\"node\">\n<title>134267451886368</title>\n<polygon fill=\"none\" stroke=\"black\" points=\"0,-29.5 0,-65.5 200,-65.5 200,-29.5 0,-29.5\"/>\n<text text-anchor=\"middle\" x=\"16.5\" y=\"-43.8\" font-family=\"Times,serif\" font-size=\"14.00\">w1</text>\n<polyline fill=\"none\" stroke=\"black\" points=\"33,-29.5 33,-65.5 \"/>\n<text text-anchor=\"middle\" x=\"75.5\" y=\"-43.8\" font-family=\"Times,serif\" font-size=\"14.00\">data &#45;3.0000</text>\n<polyline fill=\"none\" stroke=\"black\" points=\"118,-29.5 118,-65.5 \"/>\n<text text-anchor=\"middle\" x=\"159\" y=\"-43.8\" font-family=\"Times,serif\" font-size=\"14.00\">grad 1.0000</text>\n</g>\n<!-- 134267451886368&#45;&gt;134267451899760* -->\n<g id=\"edge12\" class=\"edge\">\n<title>134267451886368&#45;&gt;134267451899760*</title>\n<path fill=\"none\" stroke=\"black\" d=\"M169.28,-65.5C179.65,-68.61 190.16,-71.98 200,-75.5 210.28,-79.17 221.28,-83.74 231.11,-88.07\"/>\n<polygon fill=\"black\" stroke=\"black\" points=\"229.93,-91.37 240.48,-92.27 232.79,-84.99 229.93,-91.37\"/>\n</g>\n<!-- 134267451899184 -->\n<g id=\"node18\" class=\"node\">\n<title>134267451899184</title>\n<polygon fill=\"none\" stroke=\"black\" points=\"1037.5,-28.5 1037.5,-64.5 1219.5,-64.5 1219.5,-28.5 1037.5,-28.5\"/>\n<text text-anchor=\"middle\" x=\"1047.5\" y=\"-42.8\" font-family=\"Times,serif\" font-size=\"14.00\"> </text>\n<polyline fill=\"none\" stroke=\"black\" points=\"1057.5,-28.5 1057.5,-64.5 \"/>\n<text text-anchor=\"middle\" x=\"1097.5\" y=\"-42.8\" font-family=\"Times,serif\" font-size=\"14.00\">data 2.0000</text>\n<polyline fill=\"none\" stroke=\"black\" points=\"1137.5,-28.5 1137.5,-64.5 \"/>\n<text text-anchor=\"middle\" x=\"1178.5\" y=\"-42.8\" font-family=\"Times,serif\" font-size=\"14.00\">grad 0.2203</text>\n</g>\n<!-- 134267451899184&#45;&gt;134267451889296* -->\n<g id=\"edge23\" class=\"edge\">\n<title>134267451899184&#45;&gt;134267451889296*</title>\n<path fill=\"none\" stroke=\"black\" d=\"M1219.68,-62.36C1229.61,-64.11 1239.23,-65.8 1247.84,-67.32\"/>\n<polygon fill=\"black\" stroke=\"black\" points=\"1247.36,-70.78 1257.81,-69.07 1248.57,-63.89 1247.36,-70.78\"/>\n</g>\n<!-- 134267451884880 -->\n<g id=\"node19\" class=\"node\">\n<title>134267451884880</title>\n<polygon fill=\"none\" stroke=\"black\" points=\"666,-111.5 666,-147.5 910,-147.5 910,-111.5 666,-111.5\"/>\n<text text-anchor=\"middle\" x=\"704.5\" y=\"-125.8\" font-family=\"Times,serif\" font-size=\"14.00\">x1w1x2w2</text>\n<polyline fill=\"none\" stroke=\"black\" points=\"743,-111.5 743,-147.5 \"/>\n<text text-anchor=\"middle\" x=\"785.5\" y=\"-125.8\" font-family=\"Times,serif\" font-size=\"14.00\">data &#45;6.0000</text>\n<polyline fill=\"none\" stroke=\"black\" points=\"828,-111.5 828,-147.5 \"/>\n<text text-anchor=\"middle\" x=\"869\" y=\"-125.8\" font-family=\"Times,serif\" font-size=\"14.00\">grad 0.5000</text>\n</g>\n<!-- 134267451884880&#45;&gt;134267451885744+ -->\n<g id=\"edge14\" class=\"edge\">\n<title>134267451884880&#45;&gt;134267451885744+</title>\n<path fill=\"none\" stroke=\"black\" d=\"M906.71,-111.49C917.38,-109.86 927.53,-108.3 936.51,-106.93\"/>\n<polygon fill=\"black\" stroke=\"black\" points=\"937.13,-110.38 946.48,-105.4 936.07,-103.46 937.13,-110.38\"/>\n</g>\n<!-- 134267451884880+&#45;&gt;134267451884880 -->\n<g id=\"edge7\" class=\"edge\">\n<title>134267451884880+&#45;&gt;134267451884880</title>\n<path fill=\"none\" stroke=\"black\" d=\"M630.22,-129.5C637.7,-129.5 646.4,-129.5 655.79,-129.5\"/>\n<polygon fill=\"black\" stroke=\"black\" points=\"655.8,-133 665.8,-129.5 655.8,-126 655.8,-133\"/>\n</g>\n<!-- 134267451899760 -->\n<g id=\"node21\" class=\"node\">\n<title>134267451899760</title>\n<polygon fill=\"none\" stroke=\"black\" points=\"326,-84.5 326,-120.5 540,-120.5 540,-84.5 326,-84.5\"/>\n<text text-anchor=\"middle\" x=\"349.5\" y=\"-98.8\" font-family=\"Times,serif\" font-size=\"14.00\">x1w1</text>\n<polyline fill=\"none\" stroke=\"black\" points=\"373,-84.5 373,-120.5 \"/>\n<text text-anchor=\"middle\" x=\"415.5\" y=\"-98.8\" font-family=\"Times,serif\" font-size=\"14.00\">data &#45;6.0000</text>\n<polyline fill=\"none\" stroke=\"black\" points=\"458,-84.5 458,-120.5 \"/>\n<text text-anchor=\"middle\" x=\"499\" y=\"-98.8\" font-family=\"Times,serif\" font-size=\"14.00\">grad 0.5000</text>\n</g>\n<!-- 134267451899760&#45;&gt;134267451884880+ -->\n<g id=\"edge27\" class=\"edge\">\n<title>134267451899760&#45;&gt;134267451884880+</title>\n<path fill=\"none\" stroke=\"black\" d=\"M540.4,-119.6C549.72,-121.1 558.65,-122.53 566.68,-123.82\"/>\n<polygon fill=\"black\" stroke=\"black\" points=\"566.24,-127.3 576.66,-125.43 567.35,-120.39 566.24,-127.3\"/>\n</g>\n<!-- 134267451899760*&#45;&gt;134267451899760 -->\n<g id=\"edge8\" class=\"edge\">\n<title>134267451899760*&#45;&gt;134267451899760</title>\n<path fill=\"none\" stroke=\"black\" d=\"M290.25,-102.5C297.7,-102.5 306.34,-102.5 315.59,-102.5\"/>\n<polygon fill=\"black\" stroke=\"black\" points=\"315.84,-106 325.84,-102.5 315.84,-99 315.84,-106\"/>\n</g>\n<!-- 134267451893664 -->\n<g id=\"node23\" class=\"node\">\n<title>134267451893664</title>\n<polygon fill=\"none\" stroke=\"black\" points=\"1655,-0.5 1655,-36.5 1842,-36.5 1842,-0.5 1655,-0.5\"/>\n<text text-anchor=\"middle\" x=\"1665\" y=\"-14.8\" font-family=\"Times,serif\" font-size=\"14.00\"> </text>\n<polyline fill=\"none\" stroke=\"black\" points=\"1675,-0.5 1675,-36.5 \"/>\n<text text-anchor=\"middle\" x=\"1717.5\" y=\"-14.8\" font-family=\"Times,serif\" font-size=\"14.00\">data &#45;1.0000</text>\n<polyline fill=\"none\" stroke=\"black\" points=\"1760,-0.5 1760,-36.5 \"/>\n<text text-anchor=\"middle\" x=\"1801\" y=\"-14.8\" font-family=\"Times,serif\" font-size=\"14.00\">grad 0.1464</text>\n</g>\n<!-- 134267451893664&#45;&gt;134267451893232+ -->\n<g id=\"edge21\" class=\"edge\">\n<title>134267451893664&#45;&gt;134267451893232+</title>\n<path fill=\"none\" stroke=\"black\" d=\"M1842.05,-34.67C1851.34,-36.3 1860.33,-37.87 1868.44,-39.29\"/>\n<polygon fill=\"black\" stroke=\"black\" points=\"1868.1,-42.78 1878.55,-41.05 1869.3,-35.88 1868.1,-42.78\"/>\n</g>\n<!-- 134267451889584 -->\n<g id=\"node24\" class=\"node\">\n<title>134267451889584</title>\n<polygon fill=\"none\" stroke=\"black\" points=\"1655.5,-110.5 1655.5,-146.5 1841.5,-146.5 1841.5,-110.5 1655.5,-110.5\"/>\n<text text-anchor=\"middle\" x=\"1665.5\" y=\"-124.8\" font-family=\"Times,serif\" font-size=\"14.00\"> </text>\n<polyline fill=\"none\" stroke=\"black\" points=\"1675.5,-110.5 1675.5,-146.5 \"/>\n<text text-anchor=\"middle\" x=\"1715.5\" y=\"-124.8\" font-family=\"Times,serif\" font-size=\"14.00\">data 1.0000</text>\n<polyline fill=\"none\" stroke=\"black\" points=\"1755.5,-110.5 1755.5,-146.5 \"/>\n<text text-anchor=\"middle\" x=\"1798.5\" y=\"-124.8\" font-family=\"Times,serif\" font-size=\"14.00\">grad &#45;0.1036</text>\n</g>\n<!-- 134267451889584&#45;&gt;134267451886176+ -->\n<g id=\"edge28\" class=\"edge\">\n<title>134267451889584&#45;&gt;134267451886176+</title>\n<path fill=\"none\" stroke=\"black\" d=\"M1841.6,-111.81C1851.15,-110.08 1860.37,-108.41 1868.68,-106.9\"/>\n<polygon fill=\"black\" stroke=\"black\" points=\"1869.43,-110.32 1878.65,-105.09 1868.18,-103.43 1869.43,-110.32\"/>\n</g>\n<!-- 134267451887040 -->\n<g id=\"node25\" class=\"node\">\n<title>134267451887040</title>\n<polygon fill=\"none\" stroke=\"black\" points=\"2716,-54.5 2716,-90.5 2901,-90.5 2901,-54.5 2716,-54.5\"/>\n<text text-anchor=\"middle\" x=\"2727.5\" y=\"-68.8\" font-family=\"Times,serif\" font-size=\"14.00\">o</text>\n<polyline fill=\"none\" stroke=\"black\" points=\"2739,-54.5 2739,-90.5 \"/>\n<text text-anchor=\"middle\" x=\"2779\" y=\"-68.8\" font-family=\"Times,serif\" font-size=\"14.00\">data 0.7071</text>\n<polyline fill=\"none\" stroke=\"black\" points=\"2819,-54.5 2819,-90.5 \"/>\n<text text-anchor=\"middle\" x=\"2860\" y=\"-68.8\" font-family=\"Times,serif\" font-size=\"14.00\">grad 1.0000</text>\n</g>\n<!-- 134267451887040*&#45;&gt;134267451887040 -->\n<g id=\"edge9\" class=\"edge\">\n<title>134267451887040*&#45;&gt;134267451887040</title>\n<path fill=\"none\" stroke=\"black\" d=\"M2680.04,-72.5C2687.58,-72.5 2696.3,-72.5 2705.57,-72.5\"/>\n<polygon fill=\"black\" stroke=\"black\" points=\"2705.81,-76 2715.81,-72.5 2705.81,-69 2705.81,-76\"/>\n</g>\n<!-- 134267451893232 -->\n<g id=\"node27\" class=\"node\">\n<title>134267451893232</title>\n<polygon fill=\"none\" stroke=\"black\" points=\"2190,-27.5 2190,-63.5 2372,-63.5 2372,-27.5 2190,-27.5\"/>\n<text text-anchor=\"middle\" x=\"2200\" y=\"-41.8\" font-family=\"Times,serif\" font-size=\"14.00\"> </text>\n<polyline fill=\"none\" stroke=\"black\" points=\"2210,-27.5 2210,-63.5 \"/>\n<text text-anchor=\"middle\" x=\"2250\" y=\"-41.8\" font-family=\"Times,serif\" font-size=\"14.00\">data 4.8284</text>\n<polyline fill=\"none\" stroke=\"black\" points=\"2290,-27.5 2290,-63.5 \"/>\n<text text-anchor=\"middle\" x=\"2331\" y=\"-41.8\" font-family=\"Times,serif\" font-size=\"14.00\">grad 0.1464</text>\n</g>\n<!-- 134267451893232&#45;&gt;134267451887040* -->\n<g id=\"edge22\" class=\"edge\">\n<title>134267451893232&#45;&gt;134267451887040*</title>\n<path fill=\"none\" stroke=\"black\" d=\"M2372.04,-52.07C2450.41,-57.79 2559.98,-65.79 2615.96,-69.87\"/>\n<polygon fill=\"black\" stroke=\"black\" points=\"2615.87,-73.37 2626.1,-70.61 2616.38,-66.39 2615.87,-73.37\"/>\n</g>\n<!-- 134267451893232+&#45;&gt;134267451893232 -->\n<g id=\"edge10\" class=\"edge\">\n<title>134267451893232+&#45;&gt;134267451893232</title>\n<path fill=\"none\" stroke=\"black\" d=\"M1932,-45.5C1982.46,-45.5 2096.06,-45.5 2179.81,-45.5\"/>\n<polygon fill=\"black\" stroke=\"black\" points=\"2179.87,-49 2189.87,-45.5 2179.87,-42 2179.87,-49\"/>\n</g>\n</g>\n</svg>\n",
            "text/plain": [
              "<graphviz.graphs.Digraph at 0x7a1d93c655a0>"
            ]
          },
          "metadata": {},
          "execution_count": 4
        }
      ]
    },
    {
      "cell_type": "code",
      "source": [
        "import torch\n",
        "\n",
        "x1 = torch.tensor([2.0]).double(); x1.requires_grad = True\n",
        "x2 = torch.tensor([0.0]).double(); x2.requires_grad = True\n",
        "w1 = torch.tensor([-3.0]).double(); w1.requires_grad = True\n",
        "w2 = torch.tensor([1.0]).double(); w2.requires_grad = True\n",
        "b = torch.tensor([6.88137]).double(); b.requires_grad = True\n",
        "n = (x1 * w1) + (x2 * w2) + b\n",
        "o = torch.tanh(n)\n",
        "print(o.data.item())\n",
        "o.backward()\n",
        "\n",
        "print('---')\n",
        "print('x2', x2.grad.item())\n",
        "print('w2', w2.grad.item())\n",
        "print('x1', x1.grad.item())\n",
        "print('w1', w1.grad.item())"
      ],
      "metadata": {
        "colab": {
          "base_uri": "https://localhost:8080/"
        },
        "id": "jX3Ps-Q9hN39",
        "outputId": "f166779b-7f18-4e3d-ac00-35b35e257d2e"
      },
      "execution_count": 5,
      "outputs": [
        {
          "output_type": "stream",
          "name": "stdout",
          "text": [
            "0.7071050214706146\n",
            "---\n",
            "x2 0.5000024886110417\n",
            "w2 0.0\n",
            "x1 -1.500007465833125\n",
            "w1 1.0000049772220834\n"
          ]
        }
      ]
    },
    {
      "cell_type": "code",
      "source": [
        "import random"
      ],
      "metadata": {
        "id": "GH4wayAol2kG"
      },
      "execution_count": 6,
      "outputs": []
    },
    {
      "cell_type": "code",
      "source": [
        "class Neuron:\n",
        "  def __init__(self, nin):\n",
        "    self.w = [Value(random.uniform(-1, 1)) for _ in range(nin)]\n",
        "    self.b = Value(random.uniform(-1, 1))\n",
        "\n",
        "  def __call__(self, x):\n",
        "    act = sum((wi * xi for wi, xi in zip(self.w, x)), self.b)\n",
        "    out = act.tanh()\n",
        "    return out\n",
        "\n",
        "  def parameters(self):\n",
        "    return self.w + [self.b]\n",
        "\n",
        "class Layer:\n",
        "\n",
        "  def __init__(self, nin, nout):\n",
        "    self.neurons = [Neuron(nin) for _ in range(nout)]\n",
        "\n",
        "  def __call__(self, x):\n",
        "    outs = [n(x) for n in self.neurons]\n",
        "    return outs[0] if len(outs) == 1 else outs\n",
        "\n",
        "  def parameters(self):\n",
        "    return [p for neuron in self.neurons for p in neuron.parameters()]\n",
        "\n",
        "class MLP:\n",
        "  def __init__(self, nin, nouts):\n",
        "    sz = [nin] + nouts\n",
        "    self.layers = [Layer(sz[i], sz[i+1]) for i in range(len(nouts))]\n",
        "  def __call__(self, x):\n",
        "    for layer in self.layers:\n",
        "      x = layer(x)\n",
        "    return x\n",
        "\n",
        "  def parameters(self):\n",
        "    return [p for layer in self.layers for p in layer.parameters()]\n",
        "\n",
        "x = [2.0, 3.0, 4.0]\n",
        "n = MLP(3, [100, 100, 100, 100, 1])\n",
        "n(x)\n"
      ],
      "metadata": {
        "colab": {
          "base_uri": "https://localhost:8080/"
        },
        "id": "aeSeaUsoj1tP",
        "outputId": "947fb954-40e6-428d-97ce-cd1b7a95306d"
      },
      "execution_count": 102,
      "outputs": [
        {
          "output_type": "execute_result",
          "data": {
            "text/plain": [
              "Value(data=0.671090745627482)"
            ]
          },
          "metadata": {},
          "execution_count": 102
        }
      ]
    },
    {
      "cell_type": "code",
      "source": [
        "draw_dot(n(x)) # be careful with big nets"
      ],
      "metadata": {
        "id": "hYFBapxA00qo"
      },
      "execution_count": null,
      "outputs": []
    },
    {
      "cell_type": "code",
      "source": [
        "xs = [\n",
        "    [2.0, 3.0, -1.0],\n",
        "    [3.0, -1.0, 0.5],\n",
        "    [0.5, 1.0, 1.0],\n",
        "    [1.0, 1.0, -1.0]\n",
        "]\n",
        "\n",
        "ys = [1.0, -1.0, -1.0, 1.0]"
      ],
      "metadata": {
        "id": "2656uk5Jqw4X"
      },
      "execution_count": 103,
      "outputs": []
    },
    {
      "cell_type": "code",
      "source": [
        "lr = 0.01"
      ],
      "metadata": {
        "id": "-iahUMAFxyMt"
      },
      "execution_count": 104,
      "outputs": []
    },
    {
      "cell_type": "code",
      "source": [
        "for step in range(10):\n",
        "  # forward\n",
        "  ypred = [n(x) for x in xs]\n",
        "  loss = sum([(yout-ygt)**2 for ygt, yout in zip(ys, ypred)])\n",
        "  # backward\n",
        "  for p in n.parameters():\n",
        "    p.grad = 0.0\n",
        "  loss.backward()\n",
        "  # update\n",
        "  for p in n.parameters():\n",
        "    p.data += -lr * p.grad\n",
        ""
      ],
      "metadata": {
        "id": "CJmLnwj_rdqq"
      },
      "execution_count": 105,
      "outputs": []
    },
    {
      "cell_type": "code",
      "source": [
        "ypred"
      ],
      "metadata": {
        "colab": {
          "base_uri": "https://localhost:8080/"
        },
        "id": "Y33_PoMOvmBP",
        "outputId": "fbffe41a-41cf-4cf4-ccfe-c613cb69c115"
      },
      "execution_count": 106,
      "outputs": [
        {
          "output_type": "execute_result",
          "data": {
            "text/plain": [
              "[Value(data=0.9999980236896512),\n",
              " Value(data=-0.989864817733997),\n",
              " Value(data=-0.9999999967251951),\n",
              " Value(data=-0.9991487420166137)]"
            ]
          },
          "metadata": {},
          "execution_count": 106
        }
      ]
    },
    {
      "cell_type": "code",
      "source": [
        "mynet = MLP(784, [100, 100, 10])"
      ],
      "metadata": {
        "id": "oAHXCevT2RfU"
      },
      "execution_count": 107,
      "outputs": []
    },
    {
      "cell_type": "code",
      "source": [],
      "metadata": {
        "id": "pMWVRYKS2kZi"
      },
      "execution_count": null,
      "outputs": []
    }
  ]
}